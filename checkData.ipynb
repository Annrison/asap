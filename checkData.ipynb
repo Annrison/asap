{
 "cells": [
  {
   "cell_type": "code",
   "execution_count": 1,
   "id": "de8671d4-96bd-4aca-8db6-3313b6d478bf",
   "metadata": {},
   "outputs": [],
   "source": [
    "import pandas as pd"
   ]
  },
  {
   "cell_type": "code",
   "execution_count": 11,
   "id": "38a21f64-4472-4ace-a78f-a48b3cb0e46e",
   "metadata": {},
   "outputs": [
    {
     "data": {
      "text/plain": [
       "(36850, 21)"
      ]
     },
     "execution_count": 11,
     "metadata": {},
     "output_type": "execute_result"
    }
   ],
   "source": [
    "train = pd.read_csv('data/train.csv')\n",
    "train.shape"
   ]
  },
  {
   "cell_type": "code",
   "execution_count": 13,
   "id": "5e46516c-d23d-4480-baac-22f4791f6aa1",
   "metadata": {},
   "outputs": [
    {
     "data": {
      "text/plain": [
       "Index(['id', 'review', 'star', 'Location#Transportation', 'Location#Downtown',\n",
       "       'Location#Easy_to_find', 'Service#Queue', 'Service#Hospitality',\n",
       "       'Service#Parking', 'Service#Timely', 'Price#Level',\n",
       "       'Price#Cost_effective', 'Price#Discount', 'Ambience#Decoration',\n",
       "       'Ambience#Noise', 'Ambience#Space', 'Ambience#Sanitary', 'Food#Portion',\n",
       "       'Food#Taste', 'Food#Appearance', 'Food#Recommend'],\n",
       "      dtype='object')"
      ]
     },
     "execution_count": 13,
     "metadata": {},
     "output_type": "execute_result"
    }
   ],
   "source": [
    "train.head(1) #['review'][0]\n",
    "train.columns"
   ]
  },
  {
   "cell_type": "code",
   "execution_count": 23,
   "id": "000a66fa-f4c1-407f-b412-3b1a68ebf53b",
   "metadata": {
    "scrolled": true,
    "tags": []
   },
   "outputs": [
    {
     "name": "stdout",
     "output_type": "stream",
     "text": [
      "[ 1 -2 -1  0]\n",
      "[ 1 -2  0 -1]\n",
      "[ 1 -2 -1  0]\n",
      "[-2 -1  1  0]\n",
      "[ 1 -2  0 -1]\n",
      "[-2  1 -1  0]\n",
      "[-2  1 -1  0]\n",
      "[-2  0  1 -1]\n",
      "[-2  1  0 -1]\n",
      "[-2  1  0 -1]\n",
      "[ 1 -2  0 -1]\n",
      "[-2  1  0 -1]\n",
      "[-2  0  1 -1]\n",
      "[-2  1  0 -1]\n",
      "[-2  1  0 -1]\n",
      "[ 1  0 -2 -1]\n",
      "[-2  1 -1  0]\n",
      "[-2  1 -1  0]\n"
     ]
    },
    {
     "data": {
      "text/plain": [
       "Location#Transportation    None\n",
       "Location#Downtown          None\n",
       "Location#Easy_to_find      None\n",
       "Service#Queue              None\n",
       "Service#Hospitality        None\n",
       "Service#Parking            None\n",
       "Service#Timely             None\n",
       "Price#Level                None\n",
       "Price#Cost_effective       None\n",
       "Price#Discount             None\n",
       "Ambience#Decoration        None\n",
       "Ambience#Noise             None\n",
       "Ambience#Space             None\n",
       "Ambience#Sanitary          None\n",
       "Food#Portion               None\n",
       "Food#Taste                 None\n",
       "Food#Appearance            None\n",
       "Food#Recommend             None\n",
       "dtype: object"
      ]
     },
     "execution_count": 23,
     "metadata": {},
     "output_type": "execute_result"
    }
   ],
   "source": [
    "def f(x):\n",
    "    print(x.unique())\n",
    "train[['Location#Transportation', 'Location#Downtown',\n",
    "       'Location#Easy_to_find', 'Service#Queue', 'Service#Hospitality',\n",
    "       'Service#Parking', 'Service#Timely', 'Price#Level',\n",
    "       'Price#Cost_effective', 'Price#Discount', 'Ambience#Decoration',\n",
    "       'Ambience#Noise', 'Ambience#Space', 'Ambience#Sanitary', 'Food#Portion',\n",
    "       'Food#Taste', 'Food#Appearance', 'Food#Recommend']].apply(f)"
   ]
  },
  {
   "cell_type": "code",
   "execution_count": 21,
   "id": "a8720af5-02d7-488f-ac24-e91e1c8509fc",
   "metadata": {},
   "outputs": [
    {
     "data": {
      "text/plain": [
       "id                         0\n",
       "review                     0\n",
       "star                       0\n",
       "Location#Transportation    0\n",
       "Location#Downtown          0\n",
       "Location#Easy_to_find      0\n",
       "Service#Queue              0\n",
       "Service#Hospitality        0\n",
       "Service#Parking            0\n",
       "Service#Timely             0\n",
       "Price#Level                0\n",
       "Price#Cost_effective       0\n",
       "Price#Discount             0\n",
       "Ambience#Decoration        0\n",
       "Ambience#Noise             0\n",
       "Ambience#Space             0\n",
       "Ambience#Sanitary          0\n",
       "Food#Portion               0\n",
       "Food#Taste                 0\n",
       "Food#Appearance            0\n",
       "Food#Recommend             0\n",
       "dtype: int64"
      ]
     },
     "execution_count": 21,
     "metadata": {},
     "output_type": "execute_result"
    }
   ],
   "source": [
    "train.isna().sum()"
   ]
  },
  {
   "cell_type": "code",
   "execution_count": 14,
   "id": "457ce5d1-48fa-4d79-9a6b-9436c28f0914",
   "metadata": {},
   "outputs": [],
   "source": [
    "# Location\n",
    "# Service\n",
    "# Price\n",
    "# Ambience\n",
    "# Food"
   ]
  },
  {
   "cell_type": "code",
   "execution_count": 16,
   "id": "ab12419c-2cf3-4314-80f4-dc8395647ea3",
   "metadata": {},
   "outputs": [
    {
     "data": {
      "text/plain": [
       "array([ 1, -2, -1,  0])"
      ]
     },
     "execution_count": 16,
     "metadata": {},
     "output_type": "execute_result"
    }
   ],
   "source": [
    "train['Location#Transportation'].unique()"
   ]
  },
  {
   "cell_type": "code",
   "execution_count": null,
   "id": "672fdcfc-ef88-48c1-8664-427680aa1953",
   "metadata": {},
   "outputs": [],
   "source": [
    "def EOQ(D,p,ck,ch):\n",
    "    Q = math.sqrt((2*D*ck)/(ch*p))\n",
    "    return Q\n",
    "ch=0.2\n",
    "ck=5\n",
    "df['Q'] = df.apply(lambda row: EOQ(row['D'], row['p'], ck, ch), axis=1)\n",
    "df"
   ]
  }
 ],
 "metadata": {
  "kernelspec": {
   "display_name": "Python 3",
   "language": "python",
   "name": "python3"
  },
  "language_info": {
   "codemirror_mode": {
    "name": "ipython",
    "version": 3
   },
   "file_extension": ".py",
   "mimetype": "text/x-python",
   "name": "python",
   "nbconvert_exporter": "python",
   "pygments_lexer": "ipython3",
   "version": "3.8.12"
  }
 },
 "nbformat": 4,
 "nbformat_minor": 5
}
